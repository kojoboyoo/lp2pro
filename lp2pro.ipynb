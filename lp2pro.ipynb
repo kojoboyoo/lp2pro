{
 "cells": [
  {
   "cell_type": "code",
   "execution_count": 44,
   "metadata": {},
   "outputs": [],
   "source": [
    "# Load the libraries/modules\n",
    "\n",
    "# For data manipulation and cleaning\n",
    "import pandas as pd # a tool for data analysis and manipulation.\n",
    "import numpy as np # a tool for numerical computations.\n",
    "import os\n",
    "\n",
    "# For data visualizations\n",
    "import matplotlib.pyplot as plt # a tool for ploting graphs/charts.\n",
    "import seaborn as sns # a tool built on matplotlib for plotting graphs/charts.\n",
    "\n",
    "# For Statistical testing\n",
    "import statsmodels.api as sm\n",
    "from statsmodels.formula.api import ols # for statistical analysis\n",
    "\n",
    "# Other supporting libraries\n",
    "import pyodbc #  helps in making access to SQL Server database simple.\n",
    "from dotenv import dotenv_values # helps to get login credential to the database.\n",
    "import re # to check for regular expressions in the datasets.\n",
    "import warnings # Hiding not too major the warnings.\n",
    "warnings.filterwarnings('ignore')"
   ]
  },
  {
   "cell_type": "code",
   "execution_count": null,
   "metadata": {},
   "outputs": [],
   "source": [
    "\n"
   ]
  },
  {
   "cell_type": "code",
   "execution_count": 45,
   "metadata": {},
   "outputs": [],
   "source": [
    "# Create an environment to store sentitive information\n",
    "environment_variables = dotenv_values('.env')\n",
    "\n",
    "database_name = environment_variables.get('DATABASE')\n",
    "server_name = environment_variables.get('SERVER')\n",
    "user_name = environment_variables.get('USERNAME')\n",
    "password = environment_variables.get('PASSWORD')\n",
    "\n",
    "connection_string = f'DRIVER={{SQL Server}};DATABASE={database_name};SERVER={server_name};USERNAME={user_name};PASSWORD={password};'"
   ]
  },
  {
   "cell_type": "code",
   "execution_count": 46,
   "metadata": {},
   "outputs": [
    {
     "name": "stdout",
     "output_type": "stream",
     "text": [
      "None None etnketiah None\n"
     ]
    }
   ],
   "source": [
    "\n",
    "\n",
    "database_name = os.getenv('DATABASE')\n",
    "server_name = os.getenv('SERVER')\n",
    "user_name = os.getenv('USERNAME')\n",
    "password = os.getenv('PASSWORD')\n",
    "\n",
    "# Print the values to check if they are correct\n",
    "print(database_name, server_name, user_name, password)"
   ]
  },
  {
   "cell_type": "code",
   "execution_count": 47,
   "metadata": {},
   "outputs": [
    {
     "ename": "Error",
     "evalue": "('HY000', '[HY000] [Microsoft][ODBC SQL Server Driver]Cannot generate SSPI context (0) (SQLDriverConnect); [HY000] [Microsoft][ODBC SQL Server Driver]Invalid connection string attribute (0); [HY000] [Microsoft][ODBC SQL Server Driver]Cannot generate SSPI context (0); [HY000] [Microsoft][ODBC SQL Server Driver]Invalid connection string attribute (0)')",
     "output_type": "error",
     "traceback": [
      "\u001b[1;31m---------------------------------------------------------------------------\u001b[0m",
      "\u001b[1;31mError\u001b[0m                                     Traceback (most recent call last)",
      "Cell \u001b[1;32mIn[47], line 2\u001b[0m\n\u001b[0;32m      1\u001b[0m \u001b[39m# Connecting to the Database\u001b[39;00m\n\u001b[1;32m----> 2\u001b[0m connection \u001b[39m=\u001b[39m pyodbc\u001b[39m.\u001b[39;49mconnect(connection_string)\n",
      "\u001b[1;31mError\u001b[0m: ('HY000', '[HY000] [Microsoft][ODBC SQL Server Driver]Cannot generate SSPI context (0) (SQLDriverConnect); [HY000] [Microsoft][ODBC SQL Server Driver]Invalid connection string attribute (0); [HY000] [Microsoft][ODBC SQL Server Driver]Cannot generate SSPI context (0); [HY000] [Microsoft][ODBC SQL Server Driver]Invalid connection string attribute (0)')"
     ]
    }
   ],
   "source": [
    "# Connecting to the Database\n",
    "connection = pyodbc.connect(connection_string)"
   ]
  },
  {
   "cell_type": "code",
   "execution_count": null,
   "metadata": {},
   "outputs": [],
   "source": [
    "# Loading the data in pandas to work on.\n",
    "query_1 ='SELECT * FROM dbo.LP2_Telco_churn_first_3000'\n",
    "\n",
    "\n",
    "data_2000 = pd.read_csv('C:/Users/etnketiah/Documents/Azubi/LP2_Telco-churn-last-2000.csv')\n",
    "data_20002 = pd.read_csv('C:/Users/etnketiah/Documents/Azubi/Telco-churn-second-2000(2).csv')\n",
    "data_3000 = pd.read_sql(query_1, connection)\n"
   ]
  },
  {
   "cell_type": "code",
   "execution_count": null,
   "metadata": {},
   "outputs": [],
   "source": []
  },
  {
   "cell_type": "code",
   "execution_count": null,
   "metadata": {},
   "outputs": [],
   "source": []
  }
 ],
 "metadata": {
  "kernelspec": {
   "display_name": "Python 3",
   "language": "python",
   "name": "python3"
  },
  "language_info": {
   "codemirror_mode": {
    "name": "ipython",
    "version": 3
   },
   "file_extension": ".py",
   "mimetype": "text/x-python",
   "name": "python",
   "nbconvert_exporter": "python",
   "pygments_lexer": "ipython3",
   "version": "3.10.4"
  },
  "orig_nbformat": 4
 },
 "nbformat": 4,
 "nbformat_minor": 2
}
